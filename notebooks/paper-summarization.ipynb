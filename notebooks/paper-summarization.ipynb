{
 "cells": [
  {
   "cell_type": "markdown",
   "metadata": {},
   "source": [
    "## Paper Summarization"
   ]
  },
  {
   "cell_type": "code",
   "execution_count": 1,
   "metadata": {},
   "outputs": [],
   "source": [
    "import os\n",
    "import sys\n",
    "\n",
    "sys.path.insert(0, os.path.abspath('..') + '/src')\n",
    "\n",
    "import base64\n",
    "\n",
    "from anthropic_api import AnthropicAPI"
   ]
  },
  {
   "cell_type": "code",
   "execution_count": 2,
   "metadata": {},
   "outputs": [],
   "source": [
    "# loading prompt\n",
    "with open('../data/prompts/paper_summarization_v1.txt', 'r') as file:\n",
    "    prompt = file.read()"
   ]
  },
  {
   "cell_type": "code",
   "execution_count": 3,
   "metadata": {},
   "outputs": [],
   "source": [
    "pdf_path = \"../data/pdf/2024.emnlp-main.1026.pdf\"\n",
    "\n",
    "# reading a local PDF file\n",
    "with open(pdf_path, \"rb\") as pdf_file:\n",
    "    pdf_data = base64.standard_b64encode(pdf_file.read()).decode(\"utf-8\")\n",
    "    \n",
    "# for reading PDF from a URL\n",
    "# pdf_data = base64.standard_b64encode(httpx.get(pdf_url).content).decode(\"utf-8\")"
   ]
  },
  {
   "cell_type": "code",
   "execution_count": 4,
   "metadata": {},
   "outputs": [],
   "source": [
    "api_client = AnthropicAPI()"
   ]
  },
  {
   "cell_type": "code",
   "execution_count": 5,
   "metadata": {},
   "outputs": [],
   "source": [
    "message = api_client.summarize_pdf(pdf_data, prompt)"
   ]
  },
  {
   "cell_type": "code",
   "execution_count": 6,
   "metadata": {},
   "outputs": [
    {
     "data": {
      "text/plain": [
       "{'id': 'msg_01VcPTBFVyS8SBUaih7GFwQo',\n",
       " 'content': [{'text': \"Here's a concise two-paragraph summary addressing the key points:\\n\\nThe paper introduces CasiMedicos-Arg, a multilingual medical question answering dataset created from Spanish medical licensing exams (MIR) and their explanations written by volunteer Spanish medical doctors through the CasiMedicos MIR Project 2.0. The dataset is unique in providing gold-standard explanatory arguments for both correct and incorrect medical diagnoses, which were manually annotated with argumentative structures. The original Spanish content was translated and manually revised into English, French, and Italian, creating a parallel corpus across four languages. The dataset creation process involved cleaning and structuring the original exam data, translating it, and then performing extensive manual annotation of argumentative components.\\n\\nThe final dataset comprises 558 clinical cases with detailed explanations across all four languages. The annotation scheme includes argument components (5,021 claims and 2,313 premises) and relations (2,431 support and 1,106 attack relations), along with discourse markers and medical domain-specific labels (Disease, Treatment, Diagnostics). For model evaluation, the dataset supports argument component detection tasks, with experiments conducted using various language models including mBERT, mDeBERTa, Medical mT5, LLaMA-2, and Mistral. The best performance was achieved by Mistral-0.1-7B with an F1 score of 83.27% on English data. The dataset and associated resources are publicly available on GitHub (https://github.com/ixa-ehu/antidote-casimedicos) and Hugging Face (https://huggingface.co/datasets/HiTZ/casimedicos-exp). The authors note this is the first multilingual medical QA dataset with annotated argumentative structures for explanations, addressing a significant gap in existing medical AI benchmarks.\",\n",
       "   'type': 'text'}],\n",
       " 'model': 'claude-3-5-sonnet-20241022',\n",
       " 'role': 'assistant',\n",
       " 'stop_reason': 'end_turn',\n",
       " 'stop_sequence': None,\n",
       " 'type': 'message',\n",
       " 'usage': {'cache_creation_input_tokens': 36315,\n",
       "  'cache_read_input_tokens': 0,\n",
       "  'input_tokens': 275,\n",
       "  'output_tokens': 414}}"
      ]
     },
     "execution_count": 6,
     "metadata": {},
     "output_type": "execute_result"
    }
   ],
   "source": [
    "message.to_dict()"
   ]
  },
  {
   "cell_type": "code",
   "execution_count": null,
   "metadata": {},
   "outputs": [],
   "source": []
  }
 ],
 "metadata": {
  "kernelspec": {
   "display_name": "alchemy-env",
   "language": "python",
   "name": "alchemy-env"
  },
  "language_info": {
   "codemirror_mode": {
    "name": "ipython",
    "version": 3
   },
   "file_extension": ".py",
   "mimetype": "text/x-python",
   "name": "python",
   "nbconvert_exporter": "python",
   "pygments_lexer": "ipython3",
   "version": "3.9.20"
  }
 },
 "nbformat": 4,
 "nbformat_minor": 4
}
