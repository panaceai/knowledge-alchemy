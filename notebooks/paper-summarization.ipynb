{
 "cells": [
  {
   "cell_type": "markdown",
   "metadata": {},
   "source": [
    "## Paper Summarization"
   ]
  },
  {
   "cell_type": "code",
   "execution_count": 1,
   "metadata": {},
   "outputs": [],
   "source": [
    "import os\n",
    "import sys\n",
    "\n",
    "sys.path.insert(0, os.path.abspath('..') + '/src')\n",
    "\n",
    "import base64\n",
    "\n",
    "from anthropic_api import AnthropicAPI\n",
    "from summarize_pdfs import summarize_pdfs_in_directory"
   ]
  },
  {
   "cell_type": "code",
   "execution_count": 2,
   "metadata": {},
   "outputs": [],
   "source": [
    "pdf_path = \"../data/pdfs/2024.emnlp-main.1051.pdf\"\n",
    "prompt_path = \"../data/prompts/paper_summarization_v2.txt\""
   ]
  },
  {
   "cell_type": "code",
   "execution_count": 3,
   "metadata": {},
   "outputs": [],
   "source": [
    "api_client = AnthropicAPI()"
   ]
  },
  {
   "cell_type": "code",
   "execution_count": 4,
   "metadata": {},
   "outputs": [],
   "source": [
    "message = api_client.summarize_pdf(pdf_path, prompt_path)"
   ]
  },
  {
   "cell_type": "code",
   "execution_count": 5,
   "metadata": {},
   "outputs": [
    {
     "data": {
      "text/plain": [
       "{'id': 'msg_01HDb3k6GgpQ3JkdZu1NcrpR',\n",
       " 'content': [{'text': 'Here\\'s a concise summary focusing on the requested aspects:\\n\\nThe paper presents a large-scale user study evaluating different types of AI explanations in a clinical decision-support setting for chest X-ray analysis. The study involved 85 healthcare practitioners analyzing 80 unique chest X-ray images across four different conditions: no explanation, visual explanations (saliency maps), natural language explanations (NLEs), and a combination of both. The researchers used a transformer-based vision-language model (VLM) with a DenseNet vision encoder trained on the MIMIC-NLE dataset, achieving a weighted AUC of 0.75. They implemented Grad-CAM for saliency maps and developed a custom streamlit platform for conducting the study.\\n\\nFor dataset annotation and evaluation, three expert radiologists annotated 160 cases, from which 80 were carefully selected to maintain balanced distribution across classes (pneumonia, atelectasis, pulmonary edema, fluid overload/heart failure, aspiration, and alveolar hemorrhage). The cases were evaluated using a 7-point Likert scale for explanation correctness and three-way classification for diagnoses (\"Not present,\" \"Maybe present,\" \"Definitely present\"). The study measured human accuracy, perceived usefulness, decision speed, and confidence across different explanation types. The results showed that text-based explanations led to overreliance on AI, while combining them with saliency maps provided the best performance. The kappa scores between annotators were 0.451, 0.458, and 0.502. The researchers have made their custom streamlit platform publicly available at https://bit.ly/fool-me.',\n",
       "   'type': 'text'}],\n",
       " 'model': 'claude-3-5-sonnet-20241022',\n",
       " 'role': 'assistant',\n",
       " 'stop_reason': 'end_turn',\n",
       " 'stop_sequence': None,\n",
       " 'type': 'message',\n",
       " 'usage': {'cache_creation_input_tokens': 70475,\n",
       "  'cache_read_input_tokens': 0,\n",
       "  'input_tokens': 329,\n",
       "  'output_tokens': 365}}"
      ]
     },
     "execution_count": 5,
     "metadata": {},
     "output_type": "execute_result"
    }
   ],
   "source": [
    "message.to_dict()"
   ]
  },
  {
   "cell_type": "markdown",
   "metadata": {},
   "source": [
    "## Group summarization"
   ]
  },
  {
   "cell_type": "code",
   "execution_count": 6,
   "metadata": {},
   "outputs": [],
   "source": [
    "pdfs_dir = \"../data/pdfs\"\n",
    "prompt_path = \"../data/prompts/paper_summarization_v2.txt\"\n",
    "output_path = \"../data/emnlp2024_medical_qa.json\"\n",
    "\n",
    "# summarize_pdfs_in_directory(pdfs_dir, prompt_path, output_path, delay=30)"
   ]
  },
  {
   "cell_type": "code",
   "execution_count": null,
   "metadata": {},
   "outputs": [],
   "source": []
  }
 ],
 "metadata": {
  "kernelspec": {
   "display_name": "alchemy-env",
   "language": "python",
   "name": "alchemy-env"
  },
  "language_info": {
   "codemirror_mode": {
    "name": "ipython",
    "version": 3
   },
   "file_extension": ".py",
   "mimetype": "text/x-python",
   "name": "python",
   "nbconvert_exporter": "python",
   "pygments_lexer": "ipython3",
   "version": "3.9.20"
  }
 },
 "nbformat": 4,
 "nbformat_minor": 4
}
