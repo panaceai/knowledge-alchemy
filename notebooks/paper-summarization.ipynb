{
 "cells": [
  {
   "cell_type": "markdown",
   "metadata": {},
   "source": [
    "## Paper Summarization"
   ]
  },
  {
   "cell_type": "code",
   "execution_count": 1,
   "metadata": {},
   "outputs": [],
   "source": [
    "import os\n",
    "import sys\n",
    "\n",
    "sys.path.insert(0, os.path.abspath('..') + '/src')\n",
    "\n",
    "import base64\n",
    "\n",
    "from anthropic_api import AnthropicAPI"
   ]
  },
  {
   "cell_type": "code",
   "execution_count": 2,
   "metadata": {},
   "outputs": [],
   "source": [
    "pdf_path = \"../data/pdf/2024.emnlp-main.1026.pdf\"\n",
    "prompt_path = \"../data/prompts/paper_summarization_v1.txt\""
   ]
  },
  {
   "cell_type": "code",
   "execution_count": 3,
   "metadata": {},
   "outputs": [],
   "source": [
    "api_client = AnthropicAPI()"
   ]
  },
  {
   "cell_type": "code",
   "execution_count": 4,
   "metadata": {},
   "outputs": [],
   "source": [
    "message = api_client.summarize_pdf(pdf_path, prompt_path)"
   ]
  },
  {
   "cell_type": "code",
   "execution_count": 5,
   "metadata": {},
   "outputs": [
    {
     "data": {
      "text/plain": [
       "{'id': 'msg_01UaofnoMF7Mbv3ZXT894ke6',\n",
       " 'content': [{'text': \"Here's a concise two-paragraph summary of the paper addressing the requested points:\\n\\nThe paper introduces CasiMedicos-Arg, the first multilingual medical question answering dataset with annotated argumentative structures in English, Spanish, French, and Italian. The dataset was created by taking medical licensing exam questions from the Spanish Ministry of Health's MIR exams, along with explanations written by volunteer Spanish medical doctors through the CasiMedicos MIR Project 2.0. The original Spanish content was translated and manually revised into the other three languages. What makes this dataset unique is its inclusion of argumentative structures manually annotated in the doctors' explanations, including argument components (claims and premises) and their relations (support and attack).\\n\\nThe final dataset consists of 558 clinical cases with explanations across all four languages, containing 5,021 claims, 2,313 premises, 2,431 support relations, and 1,106 attack relations. The dataset supports argument component detection tasks, which were evaluated using various language models including mBERT, mDeBERTa, Medical mT5, LLaMA-2, and Mistral. The best performance was achieved by Mistral-0.1-7B with an F1 score of 83.27% on English data. The authors conducted monolingual, cross-lingual, and multilingual experiments, finding that multilingual training generally improved performance across languages. The dataset, code, and fine-tuned models are publicly available on GitHub (https://github.com/ixa-ehu/antidote-casimedicos) and the CasiMedicos corpus can be found on Hugging Face (https://huggingface.co/datasets/HiTZ/casimedicos-exp).\",\n",
       "   'type': 'text'}],\n",
       " 'model': 'claude-3-5-sonnet-20241022',\n",
       " 'role': 'assistant',\n",
       " 'stop_reason': 'end_turn',\n",
       " 'stop_sequence': None,\n",
       " 'type': 'message',\n",
       " 'usage': {'cache_creation_input_tokens': 0,\n",
       "  'cache_read_input_tokens': 36315,\n",
       "  'input_tokens': 275,\n",
       "  'output_tokens': 397}}"
      ]
     },
     "execution_count": 5,
     "metadata": {},
     "output_type": "execute_result"
    }
   ],
   "source": [
    "message.to_dict()"
   ]
  },
  {
   "cell_type": "code",
   "execution_count": null,
   "metadata": {},
   "outputs": [],
   "source": []
  }
 ],
 "metadata": {
  "kernelspec": {
   "display_name": "alchemy-env",
   "language": "python",
   "name": "alchemy-env"
  },
  "language_info": {
   "codemirror_mode": {
    "name": "ipython",
    "version": 3
   },
   "file_extension": ".py",
   "mimetype": "text/x-python",
   "name": "python",
   "nbconvert_exporter": "python",
   "pygments_lexer": "ipython3",
   "version": "3.9.20"
  }
 },
 "nbformat": 4,
 "nbformat_minor": 4
}
