{
 "cells": [
  {
   "cell_type": "markdown",
   "metadata": {},
   "source": [
    "## Paper Summarization"
   ]
  },
  {
   "cell_type": "code",
   "execution_count": 1,
   "metadata": {},
   "outputs": [],
   "source": [
    "import os\n",
    "import sys\n",
    "\n",
    "sys.path.insert(0, os.path.abspath('..') + '/src')\n",
    "\n",
    "import base64\n",
    "\n",
    "from anthropic_api import AnthropicAPI\n",
    "from summarize_pdfs import summarize_pdfs_in_directory"
   ]
  },
  {
   "cell_type": "code",
   "execution_count": 2,
   "metadata": {},
   "outputs": [],
   "source": [
    "pdf_path = \"../data/pdfs/2024.emnlp-main.1026.pdf\"\n",
    "prompt_path = \"../data/prompts/paper_summarization_v2.txt\""
   ]
  },
  {
   "cell_type": "code",
   "execution_count": 3,
   "metadata": {},
   "outputs": [],
   "source": [
    "api_client = AnthropicAPI()"
   ]
  },
  {
   "cell_type": "code",
   "execution_count": 4,
   "metadata": {},
   "outputs": [],
   "source": [
    "message = api_client.summarize_pdf(pdf_path, prompt_path)"
   ]
  },
  {
   "cell_type": "code",
   "execution_count": 5,
   "metadata": {},
   "outputs": [
    {
     "data": {
      "text/plain": [
       "{'id': 'msg_01GkvXiX9Cyg5VFw6T4Uysto',\n",
       " 'content': [{'text': \"Here's a two-paragraph summary addressing the key points:\\n\\nThe paper introduces CasiMedicos-Arg, the first multilingual Medical Question Answering dataset with annotated argumentative structures in English, Spanish, French, and Italian. The dataset is derived from the CasiMedicos MIR Project 2.0, which provides medical licensing exam questions with explanations written by volunteer Spanish medical doctors. The dataset consists of 558 clinical cases with detailed explanations that have been manually annotated with argument components (5,021 claims, 2,313 premises) and argumentative relations (2,431 support relations, 1,106 attack relations). The annotation process involved English-speaking annotators who labeled the source English text, which was then projected to other languages using word alignments and verified by native speakers. The dataset is publicly available through GitHub (https://github.com/ixa-ehu/antidote-casimedicos).\\n\\nFor evaluation, the researchers conducted experiments on argument component detection using various language models, including encoder-only models (mBERT, mDeBERTa), encoder-decoder models (med-mT5-large variants), and decoder-only models (LLaMA-2-7B, Mistral-0.1-7B). The experiments were performed in monolingual, cross-lingual, and multilingual settings, with sequence-level F1-macro scores used as the evaluation metric. Mistral-0.1-7B achieved the best overall performance with an F1 score of 83.27 in monolingual English evaluation and showed strong performance across other languages. The multilingual training approach generally improved results across all models compared to monolingual training, demonstrating the benefits of pooling data across languages. The dataset and models are available through Hugging Face (https://huggingface.co/datasets/HiTZ/casimedicos-exp).\",\n",
       "   'type': 'text'}],\n",
       " 'model': 'claude-3-5-sonnet-20241022',\n",
       " 'role': 'assistant',\n",
       " 'stop_reason': 'end_turn',\n",
       " 'stop_sequence': None,\n",
       " 'type': 'message',\n",
       " 'usage': {'cache_creation_input_tokens': 36315,\n",
       "  'cache_read_input_tokens': 0,\n",
       "  'input_tokens': 313,\n",
       "  'output_tokens': 425}}"
      ]
     },
     "execution_count": 5,
     "metadata": {},
     "output_type": "execute_result"
    }
   ],
   "source": [
    "message.to_dict()"
   ]
  },
  {
   "cell_type": "markdown",
   "metadata": {},
   "source": [
    "## Group summarization"
   ]
  },
  {
   "cell_type": "code",
   "execution_count": 6,
   "metadata": {},
   "outputs": [],
   "source": [
    "pdfs_dir = \"../data/pdfs\"\n",
    "prompt_path = \"../data/prompts/paper_summarization_v2.txt\"\n",
    "output_path = \"../data/emnlp2024_medical_qa.json\"\n",
    "\n",
    "# summarize_pdfs_in_directory(pdfs_dir, prompt_path, output_path, delay=30)"
   ]
  },
  {
   "cell_type": "code",
   "execution_count": null,
   "metadata": {},
   "outputs": [],
   "source": []
  }
 ],
 "metadata": {
  "kernelspec": {
   "display_name": "alchemy-env",
   "language": "python",
   "name": "alchemy-env"
  },
  "language_info": {
   "codemirror_mode": {
    "name": "ipython",
    "version": 3
   },
   "file_extension": ".py",
   "mimetype": "text/x-python",
   "name": "python",
   "nbconvert_exporter": "python",
   "pygments_lexer": "ipython3",
   "version": "3.9.20"
  }
 },
 "nbformat": 4,
 "nbformat_minor": 4
}
